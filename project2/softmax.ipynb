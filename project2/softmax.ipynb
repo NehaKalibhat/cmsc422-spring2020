{
 "cells": [
  {
   "cell_type": "markdown",
   "metadata": {},
   "source": [
    "# Part 2 - Softmax Regression"
   ]
  },
  {
   "cell_type": "markdown",
   "metadata": {},
   "source": [
    "The goal of this part of the project is to implement Softmax Regression in order to classify the MNIST digit dataset. Softmax Regression is essentially a two-layer neural network where the output layer applies the Softmax cost function, a multiclass generalization of the logistic cost function.\n",
    "\n",
    "In logistic regression, we have a hypothesis function of the form\n",
    "\n",
    "$$P[y=1] = \\frac{1}{1 + e^{-wx}}$$\n",
    "\n",
    "where $\\mathbf{w}$ is our weight vector. Like the hyperbolic tangent function, the logistic function is also a sigmoid function with the characteristic 's'-like shape, though it has a range of $(0, 1)$ instead of $(-1, 1)$. Note that this is technically not a classifier since it returns probabilities instead of a predicted class, but it's easy to turn it into a classifier by simply choosing the class with the highest probability."
   ]
  },
  {
   "cell_type": "markdown",
   "metadata": {},
   "source": [
    "Since logistic regression is used for binary classification, it is easy to see that:\n",
    "\n",
    "$$\\begin{aligned}\n",
    "P[y=1] &= \\frac{1}{1 + e^{-wx}} \\\\\n",
    "&= \\frac{e^{wx}}{e^{wx} + e^{0 \\cdot x}} \\\\\n",
    "\\end{aligned}$$\n",
    "\n",
    "Similarily,\n",
    "\n",
    "$$\\begin{aligned}\n",
    "P[y=0] &= 1 - P[y=1] \\\\\n",
    "&= 1 - \\frac{e^{wx}}{1 + e^{wx}} \\\\\n",
    "&= \\frac{e^{0 \\cdot x}}{e^{wx} + e^{0 \\cdot x}} \\\\\n",
    "\\end{aligned}$$\n",
    "\n",
    "From this form it appears that we can assign the vector $w_1 = w$ as the weight vector for class $1$ and $w_0 = \\vec{0}$ as the weight vector for class $0$. This motivates generalization to classification with more than 2 classes. By assigning a separate weight vector $w_i$ to each class, for each example $x$ we can predict the probability that it is class $i$, and again we can classify by choosing the most probable class.\n",
    "\n",
    "$$P[y=i] = \\frac{e^{w_i x}}{\\sum\\limits_j e^{w_j x}}$$\n",
    "\n",
    "A more compact way of representing the values $w_i x$ is $Wx$ where each row $i$ of $W$ is $w_i$. We can also represent a dataset $\\{x_i\\}$ with a matrix $X$ where each column is a single example, resulting in $WX$."
   ]
  },
  {
   "cell_type": "markdown",
   "metadata": {},
   "source": [
    "## Part 2.1 - Questions [5%]\n",
    "\n",
    "1. Show that the probabilities sum to 1.\n",
    "\n",
    "**ANSWER**:\n",
    "\n",
    "2. What are the dimensions of $W$, $X$, and $WX$?\n",
    "\n",
    "**ANSWER**:"
   ]
  },
  {
   "cell_type": "code",
   "execution_count": null,
   "metadata": {},
   "outputs": [],
   "source": []
  }
 ],
 "metadata": {
  "kernelspec": {
   "display_name": "Python 3",
   "language": "python",
   "name": "python3"
  },
  "language_info": {
   "codemirror_mode": {
    "name": "ipython",
    "version": 3
   },
   "file_extension": ".py",
   "mimetype": "text/x-python",
   "name": "python",
   "nbconvert_exporter": "python",
   "pygments_lexer": "ipython3",
   "version": "3.7.1"
  }
 },
 "nbformat": 4,
 "nbformat_minor": 2
}
